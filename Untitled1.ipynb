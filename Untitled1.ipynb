{
 "cells": [
  {
   "cell_type": "code",
   "execution_count": 2,
   "id": "a6e82ff0-7104-4a24-a4b4-4531b2801bc7",
   "metadata": {},
   "outputs": [],
   "source": [
    "import numpy as np\n"
   ]
  },
  {
   "cell_type": "code",
   "execution_count": 1,
   "id": "e0673db7-374d-409b-956e-e42ffb978f67",
   "metadata": {},
   "outputs": [],
   "source": [
    "L,d_q,d_k,d_v=4,8,8,8 #simply the sequence length and embedding dim"
   ]
  },
  {
   "cell_type": "code",
   "execution_count": 34,
   "id": "47ea7988-e9a2-4bd8-96f9-995e7bf4d459",
   "metadata": {},
   "outputs": [],
   "source": [
    "def selfattention(q,k,v,mask=False):\n",
    "    attention=np.matmul(q,k.T)/np.sqrt(k.shape[-1])#shape (l,l)\n",
    "    if mask==True:\n",
    "        mask=np.tril(np.ones((L,L)))\n",
    "        mask[mask==0]=np.infty\n",
    "        mask[mask==1]=0\n",
    "        attention=attention+mask\n",
    "    attention=np.matmul(attention,v)\n",
    "                     \n",
    "    \n",
    "    return attention\n",
    "def softmax(x):\n",
    "    return np.exp(x)/np.sum(np.exp(x),axis=-1,keepdims=True)\n",
    "\n"
   ]
  },
  {
   "cell_type": "code",
   "execution_count": 35,
   "id": "d554276f-7fc0-4514-b71d-4b5202f487a4",
   "metadata": {},
   "outputs": [
    {
     "data": {
      "text/plain": [
       "array([[0.50010559, 0.00229066, 0.09751948, 0.03513608, 0.06432205,\n",
       "        0.1901887 , 0.02014061, 0.09029683],\n",
       "       [0.18281253, 0.20321743, 0.07423183, 0.18342556, 0.19572873,\n",
       "        0.02861799, 0.0305711 , 0.10139484],\n",
       "       [0.04251205, 0.03837513, 0.05467094, 0.03392151, 0.02050742,\n",
       "        0.76297039, 0.03704569, 0.00999686],\n",
       "       [0.01251713, 0.33066259, 0.06854594, 0.08266733, 0.03410461,\n",
       "        0.36114971, 0.10041587, 0.00993681]])"
      ]
     },
     "execution_count": 35,
     "metadata": {},
     "output_type": "execute_result"
    }
   ],
   "source": [
    "q=np.random.randn(L,d_q)\n",
    "k=np.random.randn(L,d_k)\n",
    "v=np.random.randn(L,d_v)\n",
    "softmax(selfattention(q,k,v))\n",
    "    \n",
    "    "
   ]
  },
  {
   "cell_type": "code",
   "execution_count": 30,
   "id": "3e896967-d1a6-4197-832f-c45d2cd4668f",
   "metadata": {},
   "outputs": [
    {
     "data": {
      "text/plain": [
       "array([[0.10725883, 0.19073128, 0.16879916, 0.04657369, 0.1873267 ,\n",
       "        0.15028182, 0.12098776, 0.02804077],\n",
       "       [0.02203456, 0.01112611, 0.1718163 , 0.05295322, 0.12776023,\n",
       "        0.06876637, 0.32624462, 0.21929859],\n",
       "       [0.04272044, 0.01826371, 0.09277567, 0.01952324, 0.02612541,\n",
       "        0.72705607, 0.05948574, 0.01404972],\n",
       "       [0.24672356, 0.18038566, 0.13067509, 0.26122362, 0.02802073,\n",
       "        0.00949783, 0.05277418, 0.09069933]])"
      ]
     },
     "execution_count": 30,
     "metadata": {},
     "output_type": "execute_result"
    }
   ],
   "source": [
    "x=np.random.randn(4,8)\n",
    "y=softmax(x)\n",
    "y\n"
   ]
  },
  {
   "cell_type": "code",
   "execution_count": 18,
   "id": "d3d792ef-82dd-42bc-a618-286b1f5c5970",
   "metadata": {},
   "outputs": [
    {
     "data": {
      "text/plain": [
       "array([[1., 0., 0., 0.],\n",
       "       [1., 1., 0., 0.],\n",
       "       [1., 1., 1., 0.],\n",
       "       [1., 1., 1., 1.]])"
      ]
     },
     "execution_count": 18,
     "metadata": {},
     "output_type": "execute_result"
    }
   ],
   "source": [
    "mask=np.tril(np.ones((L,L)))\n",
    "mask\n"
   ]
  },
  {
   "cell_type": "code",
   "execution_count": 20,
   "id": "19bff04d-52da-4f2d-9b0f-1baeb0fbb141",
   "metadata": {},
   "outputs": [
    {
     "data": {
      "text/plain": [
       "array([[False,  True,  True,  True],\n",
       "       [False, False,  True,  True],\n",
       "       [False, False, False,  True],\n",
       "       [False, False, False, False]])"
      ]
     },
     "execution_count": 20,
     "metadata": {},
     "output_type": "execute_result"
    }
   ],
   "source": []
  },
  {
   "cell_type": "markdown",
   "id": "a92950bc-d75b-4ee4-8217-843cd153f683",
   "metadata": {},
   "source": [
    "## Multi Head Attention"
   ]
  },
  {
   "cell_type": "code",
   "execution_count": 44,
   "id": "f6570a64-159e-4cd5-9704-5eca10ed3417",
   "metadata": {},
   "outputs": [],
   "source": [
    "import torch\n",
    "from torch import nn"
   ]
  },
  {
   "cell_type": "code",
   "execution_count": 122,
   "id": "65a578db-ec82-4983-ae09-13ba3766b05a",
   "metadata": {},
   "outputs": [],
   "source": [
    "seq_length=4\n",
    "embedding_dim=512\n",
    "batch_size=1\n",
    "model_dim=512"
   ]
  },
  {
   "cell_type": "code",
   "execution_count": 48,
   "id": "4bbb8643-c4b0-4c3f-985f-b84a847d90cf",
   "metadata": {},
   "outputs": [
    {
     "data": {
      "text/plain": [
       "torch.Size([1, 4, 512])"
      ]
     },
     "execution_count": 48,
     "metadata": {},
     "output_type": "execute_result"
    }
   ],
   "source": [
    "x=torch.randn(batch_size,seq_length,embedding_dim)\n",
    "x\n",
    "x.shape"
   ]
  },
  {
   "cell_type": "code",
   "execution_count": 46,
   "id": "8031e01e-5231-4367-8c89-de5406fa361a",
   "metadata": {},
   "outputs": [],
   "source": [
    "qkv_layer=nn.Linear(embedding_dim,3*embedding_dim)"
   ]
  },
  {
   "cell_type": "code",
   "execution_count": 50,
   "id": "b9ad3d46-ed38-4173-add1-2197f94169e5",
   "metadata": {},
   "outputs": [
    {
     "data": {
      "text/plain": [
       "tensor([[[ 0.2213,  0.3737, -0.0634,  ...,  0.5795, -0.0506, -0.4588],\n",
       "         [-0.0880,  0.4933,  0.6540,  ..., -0.1971,  0.4680,  0.2133],\n",
       "         [-0.8856, -0.2400,  0.7063,  ..., -0.1854,  0.3347,  0.1158],\n",
       "         [ 0.9538, -0.2996, -0.9819,  ..., -0.3962, -0.1074, -0.2876]]],\n",
       "       grad_fn=<ViewBackward0>)"
      ]
     },
     "execution_count": 50,
     "metadata": {},
     "output_type": "execute_result"
    }
   ],
   "source": [
    "qkv=qkv_layer(x)\n",
    "qkv"
   ]
  },
  {
   "cell_type": "code",
   "execution_count": 57,
   "id": "c798be53-0fab-410a-8e49-fa4d526e74fd",
   "metadata": {},
   "outputs": [
    {
     "data": {
      "text/plain": [
       "torch.Size([1, 4, 1536])"
      ]
     },
     "execution_count": 57,
     "metadata": {},
     "output_type": "execute_result"
    }
   ],
   "source": [
    "qkv.shape"
   ]
  },
  {
   "cell_type": "code",
   "execution_count": 62,
   "id": "24fcaaf8-26ae-4207-a15b-1656ab912a88",
   "metadata": {},
   "outputs": [
    {
     "data": {
      "text/plain": [
       "192"
      ]
     },
     "execution_count": 62,
     "metadata": {},
     "output_type": "execute_result"
    }
   ],
   "source": [
    "num_heads=8\n",
    "head_dim=qkv.shape[-1]//num_heads\n",
    "head_dim"
   ]
  },
  {
   "cell_type": "code",
   "execution_count": 66,
   "id": "df774931-eb41-4200-b48c-d1d29cc891d2",
   "metadata": {},
   "outputs": [
    {
     "data": {
      "text/plain": [
       "torch.Size([1, 4, 8, 192])"
      ]
     },
     "execution_count": 66,
     "metadata": {},
     "output_type": "execute_result"
    }
   ],
   "source": [
    "qkv=qkv.reshape(batch_size,seq_length,num_heads,head_dim)\n",
    "qkv.shape"
   ]
  },
  {
   "cell_type": "code",
   "execution_count": 70,
   "id": "5d6eda63-d5ee-4973-be58-07a7e796dab8",
   "metadata": {},
   "outputs": [
    {
     "data": {
      "text/plain": [
       "torch.Size([1, 8, 4, 192])"
      ]
     },
     "execution_count": 70,
     "metadata": {},
     "output_type": "execute_result"
    }
   ],
   "source": [
    "qkv=qkv.permute(0,2,1,3)\n",
    "qkv.shape"
   ]
  },
  {
   "cell_type": "code",
   "execution_count": 71,
   "id": "9637ea42-7363-42a9-ad87-ca72a8379447",
   "metadata": {},
   "outputs": [],
   "source": [
    "q,k,v=qkv.chunk(3,dim=-1)"
   ]
  },
  {
   "cell_type": "markdown",
   "id": "0dd90821-6601-40d4-abe6-f076098bf7e4",
   "metadata": {},
   "source": [
    "### PyTorch Implimentation"
   ]
  },
  {
   "cell_type": "code",
   "execution_count": 148,
   "id": "502d478d-f384-4cdc-873b-f7d4c0158a90",
   "metadata": {},
   "outputs": [],
   "source": [
    "import torch.nn.functional as F\n",
    "import math\n",
    "\n",
    "def scaled_dot_product(q,k,v,mask=None):\n",
    "    scaled=torch.matmul(q,k.transpose(-1,-2))/math.sqrt(k.shape[-1])\n",
    "    if mask==True:\n",
    "        mask=torch.full(scaled.size(),float('-inf'))\n",
    "        mask=torch.triu(mask,diagonal=1)\n",
    "        scaled=scaled+mask\n",
    "        # print(mask)\n",
    "        # print(scaled)\n",
    "    attention=F.softmax(scaled,dim=-1)\n",
    "    values=torch.matmul(attention,v)\n",
    "    return values,attention\n",
    "class MultiHeadAttention(nn.Module):\n",
    "    def __init__(self,input_dim,model_dim,num_head):\n",
    "        super(MultiHeadAttention, self).__init__() \n",
    "        self.input_dim=input_dim\n",
    "        self.model_dim=model_dim\n",
    "        self.num_head=num_head\n",
    "        self.head_dim=model_dim//num_head\n",
    "        self.qkv_layer=nn.Linear(input_dim,3*model_dim)\n",
    "        self.linear=nn.Linear(model_dim,input_dim)\n",
    "    def forwardpass(self,x,mask=None):\n",
    "        self.mask=mask\n",
    "        batch_dim,seq_length,input_dim=x.size()\n",
    "        qkv=self.qkv_layer(x)\n",
    "        qkv=qkv.reshape(batch_dim,seq_length,self.num_head,3*self.head_dim)\n",
    "        qkv=qkv.permute(0,2,1,3)\n",
    "        q,k,v=qkv.chunk(3,dim=-1)\n",
    "        values,attention=scaled_dot_product(q,k,v,mask=mask)\n",
    "        values=values.reshape(batch_size,seq_length,self.num_head*self.head_dim)\n",
    "        out=self.linear(values)\n",
    "        return out\n",
    "        \n",
    "    "
   ]
  },
  {
   "cell_type": "code",
   "execution_count": 75,
   "id": "7f27c120-7a3f-4ac4-812c-56d50d31069c",
   "metadata": {},
   "outputs": [
    {
     "data": {
      "text/plain": [
       "tensor([[inf, inf, inf, inf],\n",
       "        [inf, inf, inf, inf],\n",
       "        [inf, inf, inf, inf],\n",
       "        [inf, inf, inf, inf]])"
      ]
     },
     "execution_count": 75,
     "metadata": {},
     "output_type": "execute_result"
    }
   ],
   "source": [
    "torch.full((4,4),float('inf'))"
   ]
  },
  {
   "cell_type": "code",
   "execution_count": 80,
   "id": "ae42dc1d-7945-4824-a658-ec41474be4a4",
   "metadata": {},
   "outputs": [
    {
     "data": {
      "text/plain": [
       "tensor([[0., inf, inf, inf],\n",
       "        [0., 0., inf, inf],\n",
       "        [0., 0., 0., inf],\n",
       "        [0., 0., 0., 0.]])"
      ]
     },
     "execution_count": 80,
     "metadata": {},
     "output_type": "execute_result"
    }
   ],
   "source": [
    "torch.triu(torch.full((4,4),float('inf')),diagonal=1)"
   ]
  },
  {
   "cell_type": "code",
   "execution_count": 113,
   "id": "c414b19c-bb30-41f5-8b60-1b4a54a2a2ac",
   "metadata": {},
   "outputs": [],
   "source": [
    "values,attention=scaled_dot_product(q,k,v,mask=True)"
   ]
  },
  {
   "cell_type": "code",
   "execution_count": 116,
   "id": "b019d860-e1e2-420e-b3d8-61080b74db44",
   "metadata": {},
   "outputs": [
    {
     "name": "stdout",
     "output_type": "stream",
     "text": [
      "torch.Size([1, 8, 4, 64])\n"
     ]
    },
    {
     "data": {
      "text/plain": [
       "torch.Size([1, 8, 4, 4])"
      ]
     },
     "execution_count": 116,
     "metadata": {},
     "output_type": "execute_result"
    }
   ],
   "source": [
    "print(values.shape)#inputs transformed into same dims but context aware\n",
    "attention.shape #batch,heads,seq_l*seq_l"
   ]
  },
  {
   "cell_type": "code",
   "execution_count": 121,
   "id": "c5f7de4c-9f26-4b60-9414-0d864b8eecbb",
   "metadata": {},
   "outputs": [
    {
     "data": {
      "text/plain": [
       "torch.Size([1, 4, 512])"
      ]
     },
     "execution_count": 121,
     "metadata": {},
     "output_type": "execute_result"
    }
   ],
   "source": [
    "values=values.reshape(batch_size,seq_length,-1)#num of heads*head dim 8*64=512=embeding_dim\n",
    "values.shape"
   ]
  },
  {
   "cell_type": "code",
   "execution_count": 123,
   "id": "ff3c8185-1b86-4d9b-bd0c-b3edccc76cbc",
   "metadata": {},
   "outputs": [],
   "source": [
    "linear_layer=nn.Linear(model_dim,model_dim)"
   ]
  },
  {
   "cell_type": "code",
   "execution_count": 127,
   "id": "0faa45d7-072f-49ec-9e00-4fc123f7eba9",
   "metadata": {},
   "outputs": [
    {
     "data": {
      "text/plain": [
       "torch.Size([1, 4, 512])"
      ]
     },
     "execution_count": 127,
     "metadata": {},
     "output_type": "execute_result"
    }
   ],
   "source": [
    "out=linear_layer(values)\n",
    "out.shape#for better interaction of heads"
   ]
  },
  {
   "cell_type": "code",
   "execution_count": 138,
   "id": "d1a96ece-043e-4cf6-ba1d-ee88fb9426b0",
   "metadata": {},
   "outputs": [],
   "source": [
    "input_dim=1024\n",
    "model_dim=512\n",
    "num_heads=8\n",
    "\n",
    "batch_size=30\n",
    "seq_length=4\n",
    "x=torch.randn((batch_size,seq_length,input_dim))"
   ]
  },
  {
   "cell_type": "code",
   "execution_count": 149,
   "id": "c30e4652-e953-4be3-9dfd-02dffa79fefd",
   "metadata": {},
   "outputs": [],
   "source": [
    "model=MultiHeadAttention(input_dim,model_dim,num_heads)"
   ]
  },
  {
   "cell_type": "code",
   "execution_count": 152,
   "id": "677c4d9f-4714-4226-b52d-757fbfe0b491",
   "metadata": {},
   "outputs": [],
   "source": [
    "out=model.forwardpass(x,mask=True)"
   ]
  },
  {
   "cell_type": "code",
   "execution_count": 155,
   "id": "6dd57f97-0e8e-4a2c-854d-33f9548e793a",
   "metadata": {},
   "outputs": [
    {
     "data": {
      "text/plain": [
       "torch.Size([30, 4, 1024])"
      ]
     },
     "execution_count": 155,
     "metadata": {},
     "output_type": "execute_result"
    }
   ],
   "source": [
    "out.shape"
   ]
  },
  {
   "cell_type": "code",
   "execution_count": 160,
   "id": "6826322d-9dac-45be-87da-0b0ba81f5001",
   "metadata": {},
   "outputs": [
    {
     "data": {
      "text/plain": [
       "torch.Size([4, 1024])"
      ]
     },
     "execution_count": 160,
     "metadata": {},
     "output_type": "execute_result"
    }
   ],
   "source": [
    "out.shape[-2:]"
   ]
  },
  {
   "cell_type": "code",
   "execution_count": null,
   "id": "d2899d6d-6751-4cbe-a72e-7858148df8a1",
   "metadata": {},
   "outputs": [],
   "source": []
  }
 ],
 "metadata": {
  "kernelspec": {
   "display_name": "Python 3 (ipykernel)",
   "language": "python",
   "name": "python3"
  },
  "language_info": {
   "codemirror_mode": {
    "name": "ipython",
    "version": 3
   },
   "file_extension": ".py",
   "mimetype": "text/x-python",
   "name": "python",
   "nbconvert_exporter": "python",
   "pygments_lexer": "ipython3",
   "version": "3.11.5"
  }
 },
 "nbformat": 4,
 "nbformat_minor": 5
}
