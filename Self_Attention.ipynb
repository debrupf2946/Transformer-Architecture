{
 "cells": [
  {
   "cell_type": "code",
   "execution_count": 2,
   "id": "fc5ed326-f8ba-4796-af34-e53e50f2134e",
   "metadata": {},
   "outputs": [],
   "source": [
    "import numpy as np\n",
    "import torch\n",
    "import torch.nn as nn\n",
    "import torch.functional as F\n",
    "import math"
   ]
  },
  {
   "cell_type": "code",
   "execution_count": 4,
   "id": "08c61d7e-9029-46a9-9349-b96a928baf98",
   "metadata": {},
   "outputs": [],
   "source": [
    "l=4\n",
    "d_k=8\n",
    "d_v=8\n",
    "q=np.random.randn(l,d_k)\n",
    "k=np.random.randn(l,d_k)\n",
    "v=np.random.randn(l,d_v)"
   ]
  },
  {
   "cell_type": "code",
   "execution_count": 5,
   "id": "f2c17737-ec1e-4603-938d-5f6bb1df818e",
   "metadata": {},
   "outputs": [
    {
     "name": "stdout",
     "output_type": "stream",
     "text": [
      "Q\n",
      " [[ 0.44401731 -0.42598058 -0.74618823  0.68800076  0.34912559  0.65861128\n",
      "   1.57016608  0.79206744]\n",
      " [-0.01436775  1.58717416  0.12813724 -1.76301275  1.0837585   1.14916903\n",
      "  -1.74193789  2.19906735]\n",
      " [-0.91518929 -0.53698372  0.78439258  0.50790842 -0.60848266 -1.98360336\n",
      "   1.04370414  0.85808349]\n",
      " [ 0.71384061 -1.92270571  0.25042242 -0.04146462 -0.92302799  0.94420321\n",
      "  -0.80984849  2.59172233]]\n",
      "Q\n",
      " [[ 0.10894308  0.85630305  0.47196018  0.03892268  0.72058459 -2.23761421\n",
      "  -1.20959174 -0.92567552]\n",
      " [ 1.12864295  0.37322868  1.3425872   0.65673787 -1.01449411  0.88344755\n",
      "   0.46494404  1.59229199]\n",
      " [-0.92931934  0.40092991  0.11305415 -1.19326872  0.10211868 -0.50978238\n",
      "   1.03277144 -0.33564192]\n",
      " [ 0.48172587  0.894356    1.21899109  0.17269117 -1.38833474 -0.17152753\n",
      "   0.45868256 -0.1678526 ]]\n",
      "Q\n",
      " [[-1.74885045e-02 -1.50975818e+00 -2.09953900e+00 -1.51987565e+00\n",
      "   1.97379814e+00 -5.08908279e-01  2.86762494e+00  1.22555237e-01]\n",
      " [ 5.48068028e-01 -4.99533972e-01  8.12068903e-01 -6.77357537e-01\n",
      "  -1.00240990e-01 -7.21790750e-01 -1.97735791e+00  7.58320522e-01]\n",
      " [ 9.91164666e-04  1.91745338e+00 -6.24035130e-01 -3.41600632e-02\n",
      "  -2.10368386e+00 -6.76497167e-01  8.70429858e-01  7.74128677e-01]\n",
      " [ 1.00981010e+00 -1.06512669e+00  4.97230768e-01  2.23478348e-01\n",
      "   1.61136896e+00 -2.09281334e+00  5.46286734e-01  1.11425343e+00]]\n"
     ]
    }
   ],
   "source": [
    "print(\"Q\\n\",q)\n",
    "print(\"Q\\n\",k)\n",
    "print(\"Q\\n\",v)"
   ]
  },
  {
   "cell_type": "markdown",
   "id": "a4fcc14d-3e53-4044-8691-b2b1ce89e7b8",
   "metadata": {},
   "source": [
    "## Self-Attention"
   ]
  },
  {
   "cell_type": "code",
   "execution_count": 6,
   "id": "de26164a-e312-4769-9428-c158aeef3e9b",
   "metadata": {},
   "outputs": [
    {
     "data": {
      "text/plain": [
       "array([[-4.49638896,  2.0110669 , -0.43307624, -0.96828474],\n",
       "       [-0.36965512,  2.19777864, -0.2443448 , -1.60553058],\n",
       "       [ 1.77375993,  0.86981451,  1.85678552,  1.64247145],\n",
       "       [-5.64946541,  5.91784975, -3.63834199, -0.76458148]])"
      ]
     },
     "execution_count": 6,
     "metadata": {},
     "output_type": "execute_result"
    }
   ],
   "source": [
    "np.matmul(q,k.T)"
   ]
  },
  {
   "cell_type": "code",
   "execution_count": 7,
   "id": "2c2998b4-7334-4cf3-af8f-a39ca732b207",
   "metadata": {},
   "outputs": [
    {
     "data": {
      "text/plain": [
       "(1.2966137648319682, 0.7909284788389416, 7.723335798757704)"
      ]
     },
     "execution_count": 7,
     "metadata": {},
     "output_type": "execute_result"
    }
   ],
   "source": [
    "q.var(),k.var(),np.matmul(q,k.T).var()"
   ]
  },
  {
   "cell_type": "code",
   "execution_count": 8,
   "id": "b10ffd9b-728c-48fd-b061-1c6775e9df69",
   "metadata": {},
   "outputs": [],
   "source": [
    "scaled=np.matmul(q,k.T)/math.sqrt(d_k)"
   ]
  },
  {
   "cell_type": "code",
   "execution_count": 9,
   "id": "1180be34-85d7-46f0-8da2-344f4fead603",
   "metadata": {},
   "outputs": [
    {
     "data": {
      "text/plain": [
       "0.965416974844713"
      ]
     },
     "execution_count": 9,
     "metadata": {},
     "output_type": "execute_result"
    }
   ],
   "source": [
    "scaled.var()"
   ]
  },
  {
   "cell_type": "code",
   "execution_count": 14,
   "id": "61758ad4-811c-4a97-806b-3ac1cf4a6b5b",
   "metadata": {},
   "outputs": [
    {
     "data": {
      "text/plain": [
       "(4, 4)"
      ]
     },
     "execution_count": 14,
     "metadata": {},
     "output_type": "execute_result"
    }
   ],
   "source": [
    "scaled.shape"
   ]
  },
  {
   "cell_type": "markdown",
   "id": "2eac3cbb-569f-4e64-9a9b-53eba9607a07",
   "metadata": {},
   "source": [
    "## Masking"
   ]
  },
  {
   "cell_type": "code",
   "execution_count": 21,
   "id": "3f552680-3b80-430c-9b31-6a6892e7598d",
   "metadata": {},
   "outputs": [],
   "source": [
    "mask=np.tril(np.ones((l,l)))"
   ]
  },
  {
   "cell_type": "code",
   "execution_count": 22,
   "id": "1fdf7823-6e8e-45bd-9e71-c52357dd1aae",
   "metadata": {},
   "outputs": [
    {
     "data": {
      "text/plain": [
       "array([[1., 0., 0., 0.],\n",
       "       [1., 1., 0., 0.],\n",
       "       [1., 1., 1., 0.],\n",
       "       [1., 1., 1., 1.]])"
      ]
     },
     "execution_count": 22,
     "metadata": {},
     "output_type": "execute_result"
    }
   ],
   "source": [
    "mask"
   ]
  },
  {
   "cell_type": "code",
   "execution_count": 24,
   "id": "4396f538-eb3c-4b00-8918-54646656bb0f",
   "metadata": {},
   "outputs": [],
   "source": [
    "mask[mask==0]=-np.infty\n",
    "mask[mask==1]=0"
   ]
  },
  {
   "cell_type": "code",
   "execution_count": 25,
   "id": "7dcdade9-26aa-4953-b67f-ecf7b29d885b",
   "metadata": {},
   "outputs": [
    {
     "data": {
      "text/plain": [
       "array([[  0., -inf, -inf, -inf],\n",
       "       [  0.,   0., -inf, -inf],\n",
       "       [  0.,   0.,   0., -inf],\n",
       "       [  0.,   0.,   0.,   0.]])"
      ]
     },
     "execution_count": 25,
     "metadata": {},
     "output_type": "execute_result"
    }
   ],
   "source": [
    "mask"
   ]
  },
  {
   "cell_type": "code",
   "execution_count": 27,
   "id": "f7d06ad4-f769-405b-9a1b-04fde9ec0fc2",
   "metadata": {},
   "outputs": [],
   "source": [
    "l=scaled+mask"
   ]
  },
  {
   "cell_type": "code",
   "execution_count": 30,
   "id": "b10f0c24-6b22-44a8-8393-e5f2f460f572",
   "metadata": {},
   "outputs": [],
   "source": [
    "def softmax(x):\n",
    "    return (np.exp(x).T/np.sum(np.exp(x),axis=-1)).T\n",
    "    "
   ]
  },
  {
   "cell_type": "code",
   "execution_count": 31,
   "id": "a1369d87-cad6-46c7-8d57-6894b2dfaedc",
   "metadata": {},
   "outputs": [],
   "source": [
    "attention=softmax(scaled+mask)"
   ]
  },
  {
   "cell_type": "code",
   "execution_count": 32,
   "id": "e6763fca-fef9-4f89-bc95-5786381886d5",
   "metadata": {},
   "outputs": [
    {
     "data": {
      "text/plain": [
       "array([[1.        , 0.        , 0.        , 0.        ],\n",
       "       [0.28746562, 0.71253438, 0.        , 0.        ],\n",
       "       [0.36281394, 0.26356425, 0.37362182, 0.        ],\n",
       "       [0.01462415, 0.8733513 , 0.02977633, 0.08224821]])"
      ]
     },
     "execution_count": 32,
     "metadata": {},
     "output_type": "execute_result"
    }
   ],
   "source": [
    "attention"
   ]
  },
  {
   "cell_type": "code",
   "execution_count": 34,
   "id": "9817c8a1-84aa-46d1-be88-1adf3fbe1fec",
   "metadata": {},
   "outputs": [
    {
     "data": {
      "text/plain": [
       "array([[-0.0174885 , -1.50975818, -2.099539  , -1.51987565,  1.97379814,\n",
       "        -0.50890828,  2.86762494,  0.12255524],\n",
       "       [ 0.38548997, -0.7899387 , -0.02491826, -0.91955252,  0.49597394,\n",
       "        -0.66059436, -0.58459193,  0.57555986],\n",
       "       [ 0.13847638,  0.03698182, -0.78086282, -0.74272224, -0.09628066,\n",
       "        -0.62763135,  0.84446503,  0.53356229],\n",
       "       [ 0.56148476, -0.48885761,  0.70083232, -0.59643445,  0.01121175,\n",
       "        -0.83009301, -1.61414221,  0.77876855]])"
      ]
     },
     "execution_count": 34,
     "metadata": {},
     "output_type": "execute_result"
    }
   ],
   "source": [
    "self_attn=np.matmul(attention,v)\n",
    "self_attn"
   ]
  },
  {
   "cell_type": "code",
   "execution_count": 35,
   "id": "4f275cfc-eb3a-4898-97de-e5c2cca56485",
   "metadata": {},
   "outputs": [
    {
     "name": "stdout",
     "output_type": "stream",
     "text": [
      "Self_Attention.ipynb\n"
     ]
    }
   ],
   "source": [
    "ls"
   ]
  },
  {
   "cell_type": "code",
   "execution_count": 42,
   "id": "d4a2a08a-c450-4d34-8171-aae58a60cb7b",
   "metadata": {},
   "outputs": [
    {
     "name": "stdout",
     "output_type": "stream",
     "text": [
      "\u001b[33mhint: Using 'master' as the name for the initial branch. This default branch name\u001b[m\n",
      "\u001b[33mhint: is subject to change. To configure the initial branch name to use in all\u001b[m\n",
      "\u001b[33mhint: of your new repositories, which will suppress this warning, call:\u001b[m\n",
      "\u001b[33mhint: \u001b[m\n",
      "\u001b[33mhint: \tgit config --global init.defaultBranch <name>\u001b[m\n",
      "\u001b[33mhint: \u001b[m\n",
      "\u001b[33mhint: Names commonly chosen instead of 'master' are 'main', 'trunk' and\u001b[m\n",
      "\u001b[33mhint: 'development'. The just-created branch can be renamed via this command:\u001b[m\n",
      "\u001b[33mhint: \u001b[m\n",
      "\u001b[33mhint: \tgit branch -m <name>\u001b[m\n",
      "Initialized empty Git repository in /Users/debruppaul/Transformer_Architecture/.git/\n"
     ]
    }
   ],
   "source": [
    "!git init"
   ]
  },
  {
   "cell_type": "code",
   "execution_count": 43,
   "id": "126db4bc-bd4e-4f55-b0b6-47101609ed45",
   "metadata": {},
   "outputs": [],
   "source": [
    "! git add ."
   ]
  },
  {
   "cell_type": "code",
   "execution_count": 44,
   "id": "ff281aaa-2b6a-4af5-97da-61c6c499f2af",
   "metadata": {},
   "outputs": [
    {
     "name": "stdout",
     "output_type": "stream",
     "text": [
      "On branch master\n",
      "\n",
      "No commits yet\n",
      "\n",
      "Changes to be committed:\n",
      "  (use \"git rm --cached <file>...\" to unstage)\n",
      "\t\u001b[32mnew file:   .ipynb_checkpoints/Self_Attention-checkpoint.ipynb\u001b[m\n",
      "\t\u001b[32mnew file:   Self_Attention.ipynb\u001b[m\n",
      "\n"
     ]
    }
   ],
   "source": [
    "!git status"
   ]
  },
  {
   "cell_type": "code",
   "execution_count": 45,
   "id": "6e26a162-9bdc-4e03-abe8-ce0a69a06933",
   "metadata": {},
   "outputs": [
    {
     "name": "stdout",
     "output_type": "stream",
     "text": [
      "[master (root-commit) ae73d7f] Self-Attention\n",
      " 2 files changed, 429 insertions(+)\n",
      " create mode 100644 .ipynb_checkpoints/Self_Attention-checkpoint.ipynb\n",
      " create mode 100644 Self_Attention.ipynb\n"
     ]
    }
   ],
   "source": [
    "!git commit -m\"Self-Attention\""
   ]
  },
  {
   "cell_type": "code",
   "execution_count": 46,
   "id": "664594df-b246-47fe-bbd9-75c9b0bdc284",
   "metadata": {},
   "outputs": [],
   "source": [
    "!git remote add origin https://github.com/debrupf2946/Transformer_Architecture.git"
   ]
  },
  {
   "cell_type": "code",
   "execution_count": 48,
   "id": "2e5fe480-404d-40f3-b79d-6c6154331c45",
   "metadata": {},
   "outputs": [],
   "source": [
    "!git branch -M main"
   ]
  },
  {
   "cell_type": "code",
   "execution_count": 50,
   "id": "b6f2d077-79ab-496c-b44a-4f98eff830af",
   "metadata": {},
   "outputs": [
    {
     "name": "stdout",
     "output_type": "stream",
     "text": [
      "Enumerating objects: 5, done.\n",
      "Counting objects: 100% (5/5), done.\n",
      "Delta compression using up to 8 threads\n",
      "Compressing objects: 100% (5/5), done.\n",
      "Writing objects: 100% (5/5), 3.41 KiB | 3.41 MiB/s, done.\n",
      "Total 5 (delta 0), reused 0 (delta 0), pack-reused 0\n",
      "To https://github.com/debrupf2946/Transformer_Architecture.git\n",
      " * [new branch]      main -> main\n"
     ]
    }
   ],
   "source": [
    "!git push origin main"
   ]
  },
  {
   "cell_type": "code",
   "execution_count": 22,
   "id": "5fcd6871-9871-494c-8aac-727327712877",
   "metadata": {},
   "outputs": [
    {
     "ename": "NameError",
     "evalue": "name 'keras_nlp' is not defined",
     "output_type": "error",
     "traceback": [
      "\u001b[0;31m---------------------------------------------------------------------------\u001b[0m",
      "\u001b[0;31mNameError\u001b[0m                                 Traceback (most recent call last)",
      "Cell \u001b[0;32mIn[22], line 12\u001b[0m\n\u001b[1;32m      9\u001b[0m mask_positions \u001b[38;5;241m=\u001b[39m np\u001b[38;5;241m.\u001b[39mrandom\u001b[38;5;241m.\u001b[39mrandint(seq_length, size\u001b[38;5;241m=\u001b[39m(batch_size, \u001b[38;5;241m5\u001b[39m))\n\u001b[1;32m     11\u001b[0m \u001b[38;5;66;03m# Embed tokens in a `hidden_dim` feature space.\u001b[39;00m\n\u001b[0;32m---> 12\u001b[0m token_embedding \u001b[38;5;241m=\u001b[39m \u001b[43mkeras_nlp\u001b[49m\u001b[38;5;241m.\u001b[39mlayers\u001b[38;5;241m.\u001b[39mReversibleEmbedding(\n\u001b[1;32m     13\u001b[0m     vocab_size,\n\u001b[1;32m     14\u001b[0m     hidden_dim,\n\u001b[1;32m     15\u001b[0m )\n\u001b[1;32m     16\u001b[0m hidden_states \u001b[38;5;241m=\u001b[39m token_embedding(token_ids)\n\u001b[1;32m     18\u001b[0m preds \u001b[38;5;241m=\u001b[39m keras_nlp\u001b[38;5;241m.\u001b[39mlayers\u001b[38;5;241m.\u001b[39mMaskedLMHead(\n\u001b[1;32m     19\u001b[0m     vocabulary_size\u001b[38;5;241m=\u001b[39mvocab_size,\n\u001b[1;32m     20\u001b[0m     token_embedding\u001b[38;5;241m=\u001b[39mtoken_embedding,\n\u001b[1;32m     21\u001b[0m     activation\u001b[38;5;241m=\u001b[39m\u001b[38;5;124m\"\u001b[39m\u001b[38;5;124msoftmax\u001b[39m\u001b[38;5;124m\"\u001b[39m,\n\u001b[1;32m     22\u001b[0m )(hidden_states, mask_positions)\n",
      "\u001b[0;31mNameError\u001b[0m: name 'keras_nlp' is not defined"
     ]
    }
   ],
   "source": [
    "batch_size = 16\n",
    "vocab_size = 100\n",
    "hidden_dim = 32\n",
    "seq_length = 50\n",
    "\n",
    "# Generate random inputs.\n",
    "token_ids = np.random.randint(vocab_size, size=(batch_size, seq_length))\n",
    "# Choose random positions as the masked inputs.\n",
    "mask_positions = np.random.randint(seq_length, size=(batch_size, 5))\n",
    "\n",
    "# Embed tokens in a `hidden_dim` feature space.\n",
    "token_embedding = keras_nlp.layers.ReversibleEmbedding(\n",
    "    vocab_size,\n",
    "    hidden_dim,\n",
    ")\n",
    "hidden_states = token_embedding(token_ids)\n",
    "\n",
    "preds = keras_nlp.layers.MaskedLMHead(\n",
    "    vocabulary_size=vocab_size,\n",
    "    token_embedding=token_embedding,\n",
    "    activation=\"softmax\",\n",
    ")(hidden_states, mask_positions)"
   ]
  },
  {
   "cell_type": "code",
   "execution_count": 2,
   "id": "93098fd5-8008-4bf7-bbd2-e9e679f6e3d6",
   "metadata": {},
   "outputs": [],
   "source": [
    "import numpy as np"
   ]
  },
  {
   "cell_type": "code",
   "execution_count": 23,
   "id": "b561de28-5181-4149-a3a5-9dfaf098fed4",
   "metadata": {},
   "outputs": [
    {
     "data": {
      "text/plain": [
       "49"
      ]
     },
     "execution_count": 23,
     "metadata": {},
     "output_type": "execute_result"
    }
   ],
   "source": [
    "max([max(mask_positions[:][i]) for i in range(5)])\n"
   ]
  },
  {
   "cell_type": "code",
   "execution_count": null,
   "id": "736bc370-8d72-42aa-bbfc-fee2110c94e0",
   "metadata": {},
   "outputs": [],
   "source": []
  }
 ],
 "metadata": {
  "kernelspec": {
   "display_name": "Python 3 (ipykernel)",
   "language": "python",
   "name": "python3"
  },
  "language_info": {
   "codemirror_mode": {
    "name": "ipython",
    "version": 3
   },
   "file_extension": ".py",
   "mimetype": "text/x-python",
   "name": "python",
   "nbconvert_exporter": "python",
   "pygments_lexer": "ipython3",
   "version": "3.11.5"
  }
 },
 "nbformat": 4,
 "nbformat_minor": 5
}
