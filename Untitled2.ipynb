{
 "cells": [
  {
   "cell_type": "code",
   "execution_count": 22,
   "id": "14a6a244-4599-4046-98d5-97ce584b5785",
   "metadata": {},
   "outputs": [],
   "source": [
    "import torch\n",
    "import numpy as np\n",
    "from torch import nn"
   ]
  },
  {
   "cell_type": "code",
   "execution_count": 1,
   "id": "e48c2e16-fd42-4f04-a79e-c1bf30031c39",
   "metadata": {},
   "outputs": [],
   "source": [
    "batch_size=1\n",
    "seq_len=2\n",
    "embed_dim=3"
   ]
  },
  {
   "cell_type": "code",
   "execution_count": 11,
   "id": "c81ad912-1b4c-48d8-967b-bc19a074854b",
   "metadata": {},
   "outputs": [
    {
     "data": {
      "text/plain": [
       "tensor([[[-0.0406,  0.6240, -0.3901],\n",
       "         [-0.0978,  0.2427,  0.3056]]])"
      ]
     },
     "execution_count": 11,
     "metadata": {},
     "output_type": "execute_result"
    }
   ],
   "source": [
    "x=torch.randn((batch_size,seq_len,embed_dim))\n",
    "x"
   ]
  },
  {
   "cell_type": "code",
   "execution_count": 12,
   "id": "10ceab75-b4be-4a05-87d5-71d75b3370d8",
   "metadata": {},
   "outputs": [
    {
     "data": {
      "text/plain": [
       "torch.Size([1, 2, 3])"
      ]
     },
     "execution_count": 12,
     "metadata": {},
     "output_type": "execute_result"
    }
   ],
   "source": [
    "x.shape"
   ]
  },
  {
   "cell_type": "code",
   "execution_count": 13,
   "id": "4293a245-a3b7-4d87-ae68-005f76abf1ec",
   "metadata": {},
   "outputs": [
    {
     "data": {
      "text/plain": [
       "torch.Size([2, 1, 3])"
      ]
     },
     "execution_count": 13,
     "metadata": {},
     "output_type": "execute_result"
    }
   ],
   "source": [
    "x=x.permute(1,0,2)\n",
    "x.shape"
   ]
  },
  {
   "cell_type": "code",
   "execution_count": 20,
   "id": "0d882f9d-7980-4e7c-8fd0-04761eaae84e",
   "metadata": {},
   "outputs": [
    {
     "data": {
      "text/plain": [
       "torch.Size([1, 3])"
      ]
     },
     "execution_count": 20,
     "metadata": {},
     "output_type": "execute_result"
    }
   ],
   "source": [
    "parameter_shape=x.shape[-2:]\n",
    "parameter_shape"
   ]
  },
  {
   "cell_type": "code",
   "execution_count": 25,
   "id": "87aca5b9-edbe-41cf-a89f-bd0fc6578ed4",
   "metadata": {},
   "outputs": [],
   "source": [
    "gamma=nn.Parameter(torch.ones(parameter_shape))\n",
    "beta=nn.Parameter(torch.zeros(parameter_shape))"
   ]
  },
  {
   "cell_type": "code",
   "execution_count": 28,
   "id": "11f3f55e-c2b6-4fb3-8e25-f7dec6a5e28d",
   "metadata": {},
   "outputs": [],
   "source": [
    "dim=[-i-1 for i in range(len(parameter_shape))]"
   ]
  },
  {
   "cell_type": "code",
   "execution_count": 29,
   "id": "5d50eb27-9f91-4684-9236-367d5dbfa68f",
   "metadata": {},
   "outputs": [
    {
     "data": {
      "text/plain": [
       "[-1, -2]"
      ]
     },
     "execution_count": 29,
     "metadata": {},
     "output_type": "execute_result"
    }
   ],
   "source": [
    "dim"
   ]
  },
  {
   "cell_type": "code",
   "execution_count": 30,
   "id": "b29cf46f-77a7-4419-8a01-201254c7a4f5",
   "metadata": {},
   "outputs": [],
   "source": [
    "mean=x.mean(dim=dim,keepdim=True)"
   ]
  },
  {
   "cell_type": "code",
   "execution_count": 32,
   "id": "f19a745f-5143-4914-a00b-00a377f92471",
   "metadata": {},
   "outputs": [
    {
     "name": "stdout",
     "output_type": "stream",
     "text": [
      "torch.Size([2, 1, 1])\n"
     ]
    },
    {
     "data": {
      "text/plain": [
       "tensor([[[0.0645]],\n",
       "\n",
       "        [[0.1502]]])"
      ]
     },
     "execution_count": 32,
     "metadata": {},
     "output_type": "execute_result"
    }
   ],
   "source": [
    "print(mean.shape)\n",
    "mean"
   ]
  },
  {
   "cell_type": "code",
   "execution_count": 33,
   "id": "29824629-366e-4d1f-8f44-47a0d837a630",
   "metadata": {},
   "outputs": [],
   "source": [
    "var=((x-mean)**2).mean(dim=dim,keepdim=True)\n",
    "epsilon=1e-5\n",
    "std=(var+epsilon).sqrt()"
   ]
  },
  {
   "cell_type": "code",
   "execution_count": 35,
   "id": "bffc8f94-2636-4757-b2da-ca20e4d67ea4",
   "metadata": {},
   "outputs": [
    {
     "data": {
      "text/plain": [
       "tensor([[[-0.2497,  1.3303, -1.0806]],\n",
       "\n",
       "        [[-1.3991,  0.5221,  0.8770]]])"
      ]
     },
     "execution_count": 35,
     "metadata": {},
     "output_type": "execute_result"
    }
   ],
   "source": [
    "y=(x-mean)/std\n",
    "y"
   ]
  },
  {
   "cell_type": "code",
   "execution_count": 36,
   "id": "28878962-2a7b-43e4-be4a-dc50c38b8c8f",
   "metadata": {},
   "outputs": [],
   "source": [
    "out=gamma*y+beta"
   ]
  },
  {
   "cell_type": "code",
   "execution_count": 45,
   "id": "fb531a85-76e8-4b71-85ac-4c1e18cdc433",
   "metadata": {},
   "outputs": [],
   "source": [
    "class LayerNormalisation():\n",
    "    def __init__(self,parameter_shape,epsilon):\n",
    "        self.parameter_shape=parameter_shape\n",
    "        self.eps=epsilon\n",
    "        self.gamma=nn.Parameter(torch.ones(parameter_shape))\n",
    "        self.beta=nn.Parameter(torch.zeros(parameter_shape))\n",
    "    def forwardpass(self,input):\n",
    "        dim=[-i-1 for i in range(len(self.parameter_shape))]\n",
    "        mean=input.mean(dim=dim,keepdim=True)\n",
    "        var=((input-mean)**2).mean(dim=dim,keepdim=True)\n",
    "        std=(var+self.eps).sqrt()\n",
    "        y=(input-mean)/std\n",
    "        out=self.gamma*y + self.beta\n",
    "        return out"
   ]
  },
  {
   "cell_type": "code",
   "execution_count": 38,
   "id": "4f5f0f5b-d06e-4426-b3ea-2467de82ec53",
   "metadata": {},
   "outputs": [
    {
     "data": {
      "text/plain": [
       "tensor([[[-0.6636,  1.4538,  1.1939],\n",
       "         [-0.4723,  1.5016,  2.8849]]])"
      ]
     },
     "execution_count": 38,
     "metadata": {},
     "output_type": "execute_result"
    }
   ],
   "source": [
    "x=torch.randn((batch_size,seq_len,embed_dim))\n",
    "x"
   ]
  },
  {
   "cell_type": "code",
   "execution_count": 46,
   "id": "b3a045a8-87c5-469c-b2fc-3b701d74abeb",
   "metadata": {},
   "outputs": [],
   "source": [
    "ln=LayerNormalisation(x.shape[-2:],1e-5)"
   ]
  },
  {
   "cell_type": "code",
   "execution_count": 47,
   "id": "bdb61cac-d667-4597-bb6f-b90face7306c",
   "metadata": {},
   "outputs": [],
   "source": [
    "out=ln.forwardpass(x)"
   ]
  },
  {
   "cell_type": "code",
   "execution_count": 48,
   "id": "51fc00f2-54c9-4315-b4e1-31938e7f963d",
   "metadata": {},
   "outputs": [
    {
     "data": {
      "text/plain": [
       "tensor([[[-1.3459,  0.3847,  0.1723],\n",
       "         [-1.1895,  0.4238,  1.5545]]], grad_fn=<AddBackward0>)"
      ]
     },
     "execution_count": 48,
     "metadata": {},
     "output_type": "execute_result"
    }
   ],
   "source": [
    "out"
   ]
  },
  {
   "cell_type": "code",
   "execution_count": null,
   "id": "d0c065df-dbd4-4d17-87a2-47164f04e14f",
   "metadata": {},
   "outputs": [],
   "source": []
  }
 ],
 "metadata": {
  "kernelspec": {
   "display_name": "Python 3 (ipykernel)",
   "language": "python",
   "name": "python3"
  },
  "language_info": {
   "codemirror_mode": {
    "name": "ipython",
    "version": 3
   },
   "file_extension": ".py",
   "mimetype": "text/x-python",
   "name": "python",
   "nbconvert_exporter": "python",
   "pygments_lexer": "ipython3",
   "version": "3.11.5"
  }
 },
 "nbformat": 4,
 "nbformat_minor": 5
}
